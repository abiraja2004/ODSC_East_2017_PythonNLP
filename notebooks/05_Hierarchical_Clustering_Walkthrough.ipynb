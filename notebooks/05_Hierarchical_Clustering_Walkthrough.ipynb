{
 "cells": [
  {
   "cell_type": "markdown",
   "metadata": {},
   "source": [
    "<table align=\"left\">\n",
    "<tr>\n",
    "\n",
    "<th, style=\"background-color:white\">\n",
    "<img src=\"https://github.com/mlgill/ODSC_East_2017_PythonNLP/blob/master/assets/logo.png?raw=true\", width=140, height=100>\n",
    "</th>\n",
    "\n",
    "<th, style=\"background-color:white\">\n",
    "<div align=\"left\">\n",
    "<h1>Learning from Text: <br> Introduction to Natural Language Processing with Python</h1>  \n",
    "<h2>Michelle L. Gill, Ph.D.</h2>     \n",
    "Senior Data Scientist, Metis  \n",
    "ODSC East  \n",
    "May 3, 2017 \n",
    "</div>\n",
    "</th>\n",
    "\n",
    "</tr>\n",
    "</table>  "
   ]
  },
  {
   "cell_type": "markdown",
   "metadata": {},
   "source": [
    "## Heirarchical Clustering Walkthrough"
   ]
  },
  {
   "cell_type": "code",
   "execution_count": 3,
   "metadata": {
    "ExecuteTime": {
     "end_time": "2017-05-02T18:38:46.399167Z",
     "start_time": "2017-05-02T18:38:46.328765Z"
    },
    "collapsed": true
   },
   "outputs": [],
   "source": [
    "import numpy as np\n",
    "import pandas as pd\n",
    "\n",
    "import matplotlib.pyplot as plt\n",
    "import seaborn as sns\n",
    "\n",
    "sns.set_context('talk')\n",
    "sns.set_style('white')\n",
    "sns.set_palette('dark')\n",
    "\n",
    "%matplotlib inline"
   ]
  },
  {
   "cell_type": "markdown",
   "metadata": {},
   "source": [
    "## The Data\n",
    "\n",
    "Create two regions of random data for clustering, one centered at (1, 1) and one centered at (3, 1)."
   ]
  },
  {
   "cell_type": "code",
   "execution_count": 60,
   "metadata": {
    "ExecuteTime": {
     "end_time": "2017-05-02T20:31:47.254424Z",
     "start_time": "2017-05-02T20:31:47.244801Z"
    }
   },
   "outputs": [
    {
     "name": "stdout",
     "output_type": "stream",
     "text": [
      "(20, 2)\n"
     ]
    }
   ],
   "source": [
    "n_points_cluster = 10\n",
    "\n",
    "data = np.append(np.random.normal(1, 1, (n_points_cluster, 2)), \n",
    "                 np.random.normal(3, 1, (n_points_cluster, 2)), \n",
    "                 axis = 0)\n",
    "\n",
    "real_id = np.append([1]*n_points_cluster, [2]*n_points_cluster)\n",
    "\n",
    "print(data.shape)"
   ]
  },
  {
   "cell_type": "markdown",
   "metadata": {},
   "source": [
    "Visualize the results."
   ]
  },
  {
   "cell_type": "code",
   "execution_count": 61,
   "metadata": {
    "ExecuteTime": {
     "end_time": "2017-05-02T20:31:48.116899Z",
     "start_time": "2017-05-02T20:31:47.938606Z"
    }
   },
   "outputs": [
    {
     "data": {
      "image/png": "[encoded data removed]",
      "text/plain": [
       "<matplotlib.figure.Figure at 0x110eb9978>"
      ]
     },
     "metadata": {},
     "output_type": "display_data"
    }
   ],
   "source": [
    "# custom red/blue palette\n",
    "palette = {1:sns.color_palette()[0], 2:sns.color_palette()[2]}\n",
    "colors = [palette[x] for x in real_id]\n",
    "\n",
    "fig = plt.figure(figsize=(5,5))\n",
    "ax = plt.axes()\n",
    "\n",
    "ax.scatter(data[:,0], data[:,1], \n",
    "            c=colors);"
   ]
  },
  {
   "cell_type": "markdown",
   "metadata": {},
   "source": [
    "## Calculate Distances\n",
    "\n",
    "[Pairwise distance metrics](http://scikit-learn.org/stable/modules/metrics.html#metrics) can be used for calculating distances and similarities. First the cosine similarity."
   ]
  },
  {
   "cell_type": "code",
   "execution_count": 62,
   "metadata": {
    "ExecuteTime": {
     "end_time": "2017-05-02T20:31:51.441731Z",
     "start_time": "2017-05-02T20:31:51.434758Z"
    }
   },
   "outputs": [
    {
     "name": "stdout",
     "output_type": "stream",
     "text": [
      "(20, 20)\n"
     ]
    }
   ],
   "source": [
    "from sklearn.metrics.pairwise import cosine_similarity\n",
    "\n",
    "sim_cosine = cosine_similarity(data)\n",
    "\n",
    "print(sim_cosine.shape)"
   ]
  },
  {
   "cell_type": "markdown",
   "metadata": {},
   "source": [
    "Convert the cosine similarity measurements to a distance."
   ]
  },
  {
   "cell_type": "code",
   "execution_count": 63,
   "metadata": {
    "ExecuteTime": {
     "end_time": "2017-05-02T20:31:52.482215Z",
     "start_time": "2017-05-02T20:31:52.475141Z"
    },
    "collapsed": true
   },
   "outputs": [],
   "source": [
    "dist_cosine = 1. - sim_cosine"
   ]
  },
  {
   "cell_type": "markdown",
   "metadata": {},
   "source": [
    "Calculate the Euclidean distances."
   ]
  },
  {
   "cell_type": "code",
   "execution_count": 64,
   "metadata": {
    "ExecuteTime": {
     "end_time": "2017-05-02T20:31:54.228448Z",
     "start_time": "2017-05-02T20:31:54.222583Z"
    },
    "collapsed": true
   },
   "outputs": [],
   "source": [
    "from sklearn.metrics.pairwise import euclidean_distances\n",
    "\n",
    "dist_euc = euclidean_distances(data)"
   ]
  },
  {
   "cell_type": "markdown",
   "metadata": {},
   "source": [
    "## Calculate Linkage Matrix\n",
    "\n",
    "Calculate a [linkage matrix](https://docs.scipy.org/doc/scipy-0.19.0/reference/generated/scipy.cluster.hierarchy.linkage.html#scipy.cluster.hierarchy.linkage), which is used in hierarchical clustering. The linkage matrix will be calculated using the [average](https://docs.scipy.org/doc/scipy-0.19.0/reference/generated/scipy.cluster.hierarchy.average.html#scipy.cluster.hierarchy.average) and [ward](https://docs.scipy.org/doc/scipy-0.19.0/reference/generated/scipy.cluster.hierarchy.ward.html) linkages."
   ]
  },
  {
   "cell_type": "code",
   "execution_count": 65,
   "metadata": {
    "ExecuteTime": {
     "end_time": "2017-05-02T20:31:56.232724Z",
     "start_time": "2017-05-02T20:31:56.223886Z"
    }
   },
   "outputs": [
    {
     "name": "stdout",
     "output_type": "stream",
     "text": [
      "(19, 4)\n"
     ]
    },
    {
     "name": "stderr",
     "output_type": "stream",
     "text": [
      "/Volumes/Files/miniconda/envs/scienv3/lib/python3.6/site-packages/scipy/cluster/hierarchy.py:312: ClusterWarning: scipy.cluster: The symmetric non-negative hollow observation matrix looks suspiciously like an uncondensed distance matrix\n",
      "  return linkage(y, method='average', metric='euclidean')\n"
     ]
    }
   ],
   "source": [
    "from scipy.cluster.hierarchy import average\n",
    "\n",
    "linkage_matrix_average = average(dist_euc)\n",
    "\n",
    "print(linkage_matrix_average.shape)"
   ]
  },
  {
   "cell_type": "code",
   "execution_count": 66,
   "metadata": {
    "ExecuteTime": {
     "end_time": "2017-05-02T20:31:56.958316Z",
     "start_time": "2017-05-02T20:31:56.950570Z"
    }
   },
   "outputs": [
    {
     "name": "stdout",
     "output_type": "stream",
     "text": [
      "(19, 4)\n"
     ]
    },
    {
     "name": "stderr",
     "output_type": "stream",
     "text": [
      "/Volumes/Files/miniconda/envs/scienv3/lib/python3.6/site-packages/scipy/cluster/hierarchy.py:471: ClusterWarning: scipy.cluster: The symmetric non-negative hollow observation matrix looks suspiciously like an uncondensed distance matrix\n",
      "  return linkage(y, method='ward', metric='euclidean')\n"
     ]
    }
   ],
   "source": [
    "from scipy.cluster.hierarchy import ward\n",
    "\n",
    "linkage_matrix_ward = ward(dist_euc)\n",
    "\n",
    "print(linkage_matrix_ward.shape)"
   ]
  },
  {
   "cell_type": "markdown",
   "metadata": {},
   "source": [
    "## Visualize Linkage Matrices with Dendrograms\n",
    "\n",
    "A [dendrogram](https://docs.scipy.org/doc/scipy-0.19.0/reference/generated/scipy.cluster.hierarchy.dendrogram.html) can be used to visualize a linkage matrix.\n",
    "\n",
    "First, the dendrogram from the average linkage matrix."
   ]
  },
  {
   "cell_type": "code",
   "execution_count": 67,
   "metadata": {
    "ExecuteTime": {
     "end_time": "2017-05-02T20:32:03.130285Z",
     "start_time": "2017-05-02T20:32:02.918428Z"
    }
   },
   "outputs": [
    {
     "data": {
      "image/png": "[encoded data removed]",
      "text/plain": [
       "<matplotlib.figure.Figure at 0x10d688ba8>"
      ]
     },
     "metadata": {},
     "output_type": "display_data"
    }
   ],
   "source": [
    "from scipy.cluster.hierarchy import dendrogram\n",
    "\n",
    "plt.show(dendrogram(linkage_matrix_average, orientation= \"left\"))"
   ]
  },
  {
   "cell_type": "markdown",
   "metadata": {},
   "source": [
    "Then the dendrogram from the ward distance."
   ]
  },
  {
   "cell_type": "code",
   "execution_count": 68,
   "metadata": {
    "ExecuteTime": {
     "end_time": "2017-05-02T20:32:05.146571Z",
     "start_time": "2017-05-02T20:32:04.843641Z"
    }
   },
   "outputs": [
    {
     "data": {
      "image/png": "[encoded data removed]",
      "text/plain": [
       "<matplotlib.figure.Figure at 0x110abf1d0>"
      ]
     },
     "metadata": {},
     "output_type": "display_data"
    }
   ],
   "source": [
    "plt.show(dendrogram(linkage_matrix_ward, orientation= \"left\"))"
   ]
  },
  {
   "cell_type": "markdown",
   "metadata": {},
   "source": [
    "## Fcluster\n",
    "\n",
    "Create flat clusters with [fcluster](https://docs.scipy.org/doc/scipy-0.19.0/reference/generated/scipy.cluster.hierarchy.fcluster.html) and plot the results."
   ]
  },
  {
   "cell_type": "code",
   "execution_count": 69,
   "metadata": {
    "ExecuteTime": {
     "end_time": "2017-05-02T20:32:14.108030Z",
     "start_time": "2017-05-02T20:32:14.100623Z"
    }
   },
   "outputs": [
    {
     "name": "stdout",
     "output_type": "stream",
     "text": [
      "[2 2 2 2 2 2 2 2 2 2 1 1 2 1 1 1 1 2 2 1]\n"
     ]
    }
   ],
   "source": [
    "from scipy.cluster.hierarchy import fcluster\n",
    "\n",
    "k = 2\n",
    "clusters1 = fcluster(linkage_matrix_ward, k, criterion='maxclust')\n",
    "print(clusters1)"
   ]
  },
  {
   "cell_type": "code",
   "execution_count": 70,
   "metadata": {
    "ExecuteTime": {
     "end_time": "2017-05-02T20:32:19.889262Z",
     "start_time": "2017-05-02T20:32:19.627082Z"
    }
   },
   "outputs": [
    {
     "data": {
      "image/png": "[encoded data removed]",
      "text/plain": [
       "<matplotlib.figure.Figure at 0x1113f6780>"
      ]
     },
     "metadata": {},
     "output_type": "display_data"
    }
   ],
   "source": [
    "fig = plt.figure(figsize=(5,5))\n",
    "ax = plt.axes()\n",
    "\n",
    "marker_dict = {1:'o', 2:'s'}\n",
    "markers = [marker_dict[x] for x in clusters1]\n",
    "\n",
    "for x,y,c,m in zip(data[:,0], data[:,1], colors, markers):\n",
    "    ax.scatter(x, y, c=c, marker=m)"
   ]
  },
  {
   "cell_type": "code",
   "execution_count": 71,
   "metadata": {
    "ExecuteTime": {
     "end_time": "2017-05-02T20:32:24.999346Z",
     "start_time": "2017-05-02T20:32:24.993575Z"
    }
   },
   "outputs": [
    {
     "name": "stdout",
     "output_type": "stream",
     "text": [
      "[2 2 2 2 2 2 2 2 2 2 1 1 2 1 1 1 1 2 2 1]\n"
     ]
    }
   ],
   "source": [
    "k = 2\n",
    "clusters2 = fcluster(linkage_matrix_average, k, criterion='maxclust')\n",
    "print(clusters2)"
   ]
  },
  {
   "cell_type": "code",
   "execution_count": 72,
   "metadata": {
    "ExecuteTime": {
     "end_time": "2017-05-02T20:32:27.432012Z",
     "start_time": "2017-05-02T20:32:27.215980Z"
    }
   },
   "outputs": [
    {
     "data": {
      "image/png": "[encoded data removed]",
      "text/plain": [
       "<matplotlib.figure.Figure at 0x1111458d0>"
      ]
     },
     "metadata": {},
     "output_type": "display_data"
    }
   ],
   "source": [
    "fig = plt.figure(figsize=(5,5))\n",
    "ax = plt.axes()\n",
    "\n",
    "marker_dict = {1:'o', 2:'s'}\n",
    "markers = [marker_dict[x] for x in clusters2]\n",
    "\n",
    "for x,y,c,m in zip(data[:,0], data[:,1], colors, markers):\n",
    "    ax.scatter(x, y, c=c, marker=m)"
   ]
  }
 ],
 "metadata": {
  "kernelspec": {
   "display_name": "Python 3",
   "language": "python",
   "name": "python3"
  },
  "language_info": {
   "codemirror_mode": {
    "name": "ipython",
    "version": 3
   },
   "file_extension": ".py",
   "mimetype": "text/x-python",
   "name": "python",
   "nbconvert_exporter": "python",
   "pygments_lexer": "ipython3",
   "version": "3.6.1"
  }
 },
 "nbformat": 4,
 "nbformat_minor": 1
}
